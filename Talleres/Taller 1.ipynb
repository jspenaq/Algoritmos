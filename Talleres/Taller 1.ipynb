{
 "cells": [
  {
   "cell_type": "code",
   "execution_count": 2,
   "metadata": {},
   "outputs": [],
   "source": [
    "from IPython.display import Math"
   ]
  },
  {
   "cell_type": "markdown",
   "metadata": {},
   "source": [
    "Ejercicio 3.1-2\n",
    "\n",
    "Sea $ c=2^b\\ $  y  $n_0>=2a\\ $. Entonces para todo $ n>=n_0 $ tenemos $ (n+a)^b <= (2n)^b, $ entonces $ (n+a)^b=O(n^b). $ Ahora sea $ n_0 >= \\frac{-a}{1-1/2^{1/b}} $ y $ c=\\frac{1}{2}. $ Entonces $ n>= n_0 >= \\frac{-a}{1-1/2^{1/b}} $ si y sólo si $ n - \\frac{n}{2^{1/b}} >= -a $ si y sólo si $ n+a >= (1/2)^{a/b}n$ si y sólo si $ (n+a)^b >= cn^b. $ Por lo tanto $ (n+a)^b = \\Omega(n^b). $ Por teorema 3.1, $ (n+a)^b = \\Theta(n^b). $"
   ]
  },
  {
   "cell_type": "markdown",
   "metadata": {},
   "source": [
    "------------------------------------------------------------"
   ]
  },
  {
   "cell_type": "markdown",
   "metadata": {},
   "source": [
    "Ejercicio 3.1-7\n",
    "\n",
    "Suponga que tenemos $ f(n) \\in o(g(n))\\cap w(g(n)). $ Entonces, tenemos $ 0 = \n",
    "\\lim_{x \\to \\infty}\\frac{f(n)}{g(n)}=\\infty,$ una contradicción."
   ]
  },
  {
   "cell_type": "markdown",
   "metadata": {},
   "source": [
    "------------------------------------------------------------"
   ]
  },
  {
   "cell_type": "markdown",
   "metadata": {},
   "source": [
    "Problema 3.3\n",
    "\n",
    "a.\n",
    "\n",
    "Primero simplicamos algunas de ellas, y las clasificamos en exponencials, polinómicas, y polilogarítmica.\n",
    "\n",
    "Clase 1: Exponencial (o de crecimiento más rápido)\n",
    "\n",
    "$f_4 = n!$  \n",
    "\n",
    "$f_6 = (\\lg n)!=\\Theta(n^{\\lg \\lg n}) $ \n",
    "\n",
    "$f_7 = (\\frac{3}{2})^n $ \n",
    "\n",
    "$f_{11} = 2^{2^n} $\n",
    "\n",
    "$f_{15} = n \\cdot 2^n$\n",
    "\n",
    "$f_{16} = n^{\\log n} = \\Theta(f_6)$\n",
    "\n",
    "$f_{20} = (\\lg  n)$\n",
    "\n",
    "$f_{21} = e^n$\n",
    "\n",
    "$f_{23} = (n+1)!$\n",
    "\n",
    "$f_{28} = 2^n$\n",
    "\n",
    "$f_{30} = 2^{2^{n+1}}$\n",
    "\n",
    "Clase 2: Polinómica\n",
    "\n",
    "$f_3 = (\\sqrt{2})^{\\lg n} = (2^{\\lg n})^{1/2}=\\sqrt {n}$\n",
    "\n",
    "$f_4 = n^2$\n",
    "\n",
    "$f_8 = n^3$\n",
    "\n",
    "$f_{10} = \\lg n! $\n",
    "\n",
    "$f_{19} = 2^{\\lg n} = n$\n",
    "\n",
    "$f_{22} = 4^{\\lg n} = 2^{(\\lg n)^2} = n^2$\n",
    "\n",
    "$f_{26} = 2^{\\sqrt{2 \\lg n}}$ \n",
    "\n",
    "$f_{27} = n$\n",
    "\n",
    "$f_{29} = n \\lg n$\n",
    "\n",
    "Clase 3: Polilogarítmicas o más menores.\n",
    "\n",
    "$f_1 = \\lg ({\\lg^* n})$\n",
    "\n",
    "$f_2 = 2^{\\lg^* n}$\n",
    "\n",
    "$f_9 = \\lg^2 n$\n",
    "\n",
    "$f_{12} = n^{1/\\lg n} = 2$\n",
    "\n",
    "$f_{13} = \\ln{\\ln n}$\n",
    "\n",
    "$f_{14} = \\lg^* n$\n",
    "\n",
    "$f_{17} = \\ln n$\n",
    "\n",
    "$f_{18} = 1$\n",
    "\n",
    "$f_{24} = \\sqrt {\\lg n}$\n",
    "\n",
    "$f_{25} = \\lg^*({\\lg n})$\n",
    "\n",
    "Para la clase 1:\n",
    "\n",
    "$f_{30} > f_{11} > f_{23} > f_{5} > f_{21} > f_{15} > f_{28} > f_{7} > f_{6} = f_{16} = f_{20} $\n",
    "\n",
    "Para clase 2:\n",
    "\n",
    "$f_{8} = n^3 > f_{4} = n^2 = f_{22} = n^2 > f_{10} = \\Theta(n \\lg n) = f_{29} = n \\lg n > f_{27} = n = f_{19} > f_{3} = \\sqrt{n} > f_{26}$\n",
    "\n",
    "\n",
    "Para clase 3:\n",
    "\n",
    "\n",
    "$ f_{9} > f_{17} > f_{24} > f_{13} > f_{2} > f_{14} > f_{25} > f_{1} > f_{12} = f_{18} $\n",
    "\n",
    "b.\n",
    "\n",
    "Si definimos la función \n",
    "\n",
    "$\n",
    "  T(n) =\n",
    "  \\begin{cases}\n",
    "       g_1(n)! & \\text{n} & \\text{mod 2 = 0} \\\\\n",
    "       \\frac{1}{n} & \\text{n} & \\text{mod 2 = 1} \\\\\n",
    "  \\end{cases}\n",
    "$\n",
    "\n",
    "Note que $f(n)$ cumple con el requierimiento asintóticamente positivo que este capítulo impone sobre las funciones analizadas.\n",
    "\n",
    "Entonces, para $n$ par, tenemos:\n",
    "\n",
    "$\\lim_{x \\to \\infty}\\frac{f(2n)}{g_i(2n)} >= \\lim_{x \\to \\infty}\\frac{f(2n)}{g_1(2n)} = \\lim_{x \\to \\infty}{(g_1(2n)-1)!}  = \\infty $\n",
    "\n",
    "Y para $n$ impar, tenemos:\n",
    "\n",
    "$\\lim_{x \\to \\infty}\\frac{f(2n+1)}{g_i(2n+1)} >= \\lim_{x \\to \\infty}\\frac{f(2n)}{1} = \\lim_{x \\to \\infty}\\frac{1}{2n+1}  = 0 $\n"
   ]
  },
  {
   "cell_type": "markdown",
   "metadata": {},
   "source": [
    "------------------------------------------------------------"
   ]
  },
  {
   "cell_type": "markdown",
   "metadata": {},
   "source": [
    "Ejercicio 4.4-7\n",
    "\n",
    "Acá hay un ejemplo para $n=4$\n",
    "\n",
    "n\n",
    "\n",
    "|-n/2\n",
    "\n",
    "||    -n/4\n",
    "\n",
    "||    -n/4\n",
    "\n",
    "||    -n/4\n",
    "\n",
    "||    -n/4\n",
    "\n",
    "|-n/2\n",
    "\n",
    "||    -n/4\n",
    "\n",
    "||    -n/4\n",
    "\n",
    "||    -n/4\n",
    "\n",
    "||    -n/4\n",
    "\n",
    "|-n/2\n",
    "\n",
    "||    -n/4\n",
    "\n",
    "||    -n/4\n",
    "\n",
    "||    -n/4\n",
    "\n",
    "||    -n/4\n",
    "\n",
    "|-n/2\n",
    "\n",
    "||    -n/4\n",
    "\n",
    "||    -n/4\n",
    "\n",
    "||    -n/4\n",
    "\n",
    "||    -n/4\n",
    "\n",
    "\n",
    "Podemos ver por sustitución sencilla que la respuesta es $\\Theta(n^2).$ Suponga que $T(n)>=c'n^2$ entonces:\n",
    "\n",
    "$T(n) = 4T({n/2}) +cn <= c'n^2 + cn$\n",
    "\n",
    "el cual es $<= c'n^2$ tenemos que $c'+\\frac{c}{n}<=1,$ para $n$ suficientemente grande, es verdadero como $c'>1.$ Podemos hacer una cosa similar para mostrar que está acotado por $n^2$"
   ]
  },
  {
   "cell_type": "markdown",
   "metadata": {},
   "source": [
    "------------------------------------------------------------"
   ]
  },
  {
   "cell_type": "markdown",
   "metadata": {},
   "source": [
    "$T(n)=8T(n/2)+n$\n",
    "\n",
    "$a=8, b=2, f(n)=n$\n",
    "\n",
    "$p=\\log_b a = \\log_2 8 = 3$\n",
    "\n",
    "$\\Theta(f(n)) = \\Theta(n)$\n",
    "\n",
    "$\\Theta(n^p)=\\Theta(n^3)$\n",
    "\n",
    "$Como \\Theta(f(n))<\\Theta(n^p), entonces: T(n) = \\Theta(n^p) = \\Theta(n^3)$\n",
    "\n",
    "$T(n)=8T(n/2)+n^3$\n",
    "\n",
    "$a=8, b=2, f(n)=n$\n",
    "\n",
    "$p=\\log_b a = \\log_2 8 = 3$\n",
    "\n",
    "$\\Theta(f(n)) = \\Theta(n^3)$\n",
    "\n",
    "$\\Theta(n^p)=\\Theta(n^3)$\n",
    "\n",
    "$Como \\Theta(f(n))<\\Theta(n^p), entonces: T(n) = \\Theta(n^p*\\log n) = \\Theta(n^3 * \\log n)$\n",
    "\n",
    "$T(n)=8T(n/2)+n^5$\n",
    "\n",
    "$a=8, b=2, f(n)=n$\n",
    "\n",
    "$p=\\log_b a = \\log_2 8 = 3$\n",
    "\n",
    "$\\Theta(f(n)) = \\Theta(n^5)$\n",
    "\n",
    "$\\Theta(n^p)=\\Theta(n^3)$\n",
    "\n",
    "$Como \\Theta(f(n))<\\Theta(n^p), entonces: T(n) = \\Theta(f(n)) = \\Theta(n^5)$"
   ]
  },
  {
   "cell_type": "markdown",
   "metadata": {},
   "source": [
    "------------------------------------------------------------"
   ]
  },
  {
   "cell_type": "code",
   "execution_count": 4,
   "metadata": {},
   "outputs": [],
   "source": [
    "#2\n",
    "def misterio(n):\n",
    "    if n <= 1:\n",
    "        return 1\n",
    "    else:\n",
    "        r = misterio (n/2)\n",
    "        i = 1\n",
    "        while n > i*i:\n",
    "            i = i + 1\n",
    "        r = r + misterio (n / 2)\n",
    "        return r"
   ]
  },
  {
   "cell_type": "markdown",
   "metadata": {},
   "source": [
    "$T(n)=2T(n/2)+PISO(n/2)$"
   ]
  },
  {
   "cell_type": "markdown",
   "metadata": {},
   "source": [
    "------------------------------------------------------------"
   ]
  },
  {
   "cell_type": "markdown",
   "metadata": {},
   "source": [
    "Ejercicio 22.3-1\n",
    "\n",
    "Tabla:\n",
    "\n",
    "BLACK, BLACK = Allkinds\n",
    "\n",
    "BLACK, GRAY = Back, Cross\n",
    "\n",
    "BLACK, WHITE = Back, Cross\n",
    "\n",
    "GRAY, BLACK = Tree, Forward, Cross\n",
    "\n",
    "GRAY, GRAY = Tree, Forward, Back\n",
    "\n",
    "GRAY, WHITE = Back, Cross\n",
    "\n",
    "WHITE, BLACK = Cross, Tree, Forward\n",
    "\n",
    "WHITE, GRAY = Cross, Back\n",
    "\n",
    "WHITE, WHITE = Allkinds\n",
    "\n",
    "Para gráficos no dirigidos\n",
    "\n",
    "BLACK, BLACK = Allkinds\n",
    "\n",
    "BLACK, GRAY = Allkinds\n",
    "\n",
    "BLACK, WHITE = Allkinds\n",
    "\n",
    "GRAY, BLACK = -\n",
    "\n",
    "GRAY, GRAY = Tree, Forward, Back\n",
    "\n",
    "GRAY, WHITE = Allkinds\n",
    "\n",
    "WHITE, BLACK = -\n",
    "\n",
    "WHITE, GRAY = -\n",
    "\n",
    "WHITE, WHITE = Allkinds"
   ]
  },
  {
   "cell_type": "markdown",
   "metadata": {},
   "source": [
    "------------------------------------------------------------"
   ]
  },
  {
   "cell_type": "markdown",
   "metadata": {},
   "source": [
    "Ejercicio 22.3-2\n",
    "\n",
    "El siguiente conjunto da el tiempo de descubrimiento y el tiempo de finalizacion para cada vertice del grafo:\n",
    "\n",
    "{vertice, descubierto, finalización} = {(q,1,16),(r,17,20),(s,2,7),(t,8,15),(u,18,19),(v,3,6),(w,4,5),(x,9,12),(y,13,14),(z,10,11)}\n",
    "\n",
    "Los bordes de hoja son: (q,s),(s,v),(v,w),(q,t),(t,x),(x,z),(t,y),(r,u). Los bordes traseros son: (w,s),(y,q),(z,x). El borde frontal es: (q,w). Los bordes cruzados son: (u,y),(r,y)."
   ]
  },
  {
   "cell_type": "markdown",
   "metadata": {},
   "source": [
    "------------------------------------------------------------"
   ]
  },
  {
   "cell_type": "markdown",
   "metadata": {},
   "source": [
    "El tiempo de inicio y finalización realizando DFS es:\n",
    "\n",
    "{etiqueta, iniciación, finalización} = {(1,20),(2,5),(3,4),(6,19),(7,8),(9,18),(10,17),(11,14),(12,13),(15,16),(21,26),(22,25),(23,24),(27,28)}\n",
    "\n",
    "Leyendo las entradas en orden decreciente de tiempo de finalización, tenemos la secuencia: p,n,o,s,m,r,y,v,x,w,z,u,q,t."
   ]
  }
 ],
 "metadata": {
  "kernelspec": {
   "display_name": "Python 2",
   "language": "python",
   "name": "python2"
  },
  "language_info": {
   "codemirror_mode": {
    "name": "ipython",
    "version": 2
   },
   "file_extension": ".py",
   "mimetype": "text/x-python",
   "name": "python",
   "nbconvert_exporter": "python",
   "pygments_lexer": "ipython2",
   "version": "2.7.14"
  }
 },
 "nbformat": 4,
 "nbformat_minor": 2
}
