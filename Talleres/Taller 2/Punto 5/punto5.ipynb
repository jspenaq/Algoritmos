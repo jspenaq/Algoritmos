{
 "cells": [
  {
   "cell_type": "markdown",
   "metadata": {},
   "source": [
    "# Problema de cubrimiento de un tablero 3xn con fichas de domino\n"
   ]
  },
  {
   "cell_type": "code",
   "execution_count": 1,
   "metadata": {},
   "outputs": [],
   "source": [
    "# Tomado de https://blog.csdn.net/y12345678904/article/details/52150817\n",
    "\n",
    "a = [0]*120\n",
    "\n",
    "def func(n):\n",
    "    i= 0\n",
    "    sum = 0\n",
    "    if n == 0:\n",
    "        return 1\n",
    "    if a[n] != 0:\n",
    "        return a[n]\n",
    "    i = n - 2\n",
    "    while (i>=0):\n",
    "        if i == n-2:\n",
    "            sum +=3 * func(i)\n",
    "        else:\n",
    "            sum += 2 * func(i)\n",
    "        i-= 2\n",
    "    a[n] = sum\n",
    "    return sum\n"
   ]
  },
  {
   "cell_type": "code",
   "execution_count": 2,
   "metadata": {},
   "outputs": [
    {
     "name": "stdout",
     "output_type": "stream",
     "text": [
      "571\n"
     ]
    }
   ],
   "source": [
    "if __name__ == \"__main__\":\n",
    "    n = 10\n",
    "    print(func(n))"
   ]
  },
  {
   "cell_type": "code",
   "execution_count": 3,
   "metadata": {
    "scrolled": true
   },
   "outputs": [
    {
     "name": "stdout",
     "output_type": "stream",
     "text": [
      "156886956080403\n"
     ]
    }
   ],
   "source": [
    "    d = 50\n",
    "    print(func(d))"
   ]
  },
  {
   "cell_type": "code",
   "execution_count": 4,
   "metadata": {},
   "outputs": [
    {
     "name": "stdout",
     "output_type": "stream",
     "text": [
      "31208688988045323113527764971\n"
     ]
    }
   ],
   "source": [
    "    m = 100\n",
    "    print(func(m))"
   ]
  }
 ],
 "metadata": {
  "kernelspec": {
   "display_name": "Python 3",
   "language": "python",
   "name": "python3"
  },
  "language_info": {
   "codemirror_mode": {
    "name": "ipython",
    "version": 3
   },
   "file_extension": ".py",
   "mimetype": "text/x-python",
   "name": "python",
   "nbconvert_exporter": "python",
   "pygments_lexer": "ipython3",
   "version": "3.6.4"
  }
 },
 "nbformat": 4,
 "nbformat_minor": 2
}
