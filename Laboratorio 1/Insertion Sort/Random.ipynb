{
 "cells": [
  {
   "cell_type": "code",
   "execution_count": 1,
   "metadata": {},
   "outputs": [],
   "source": [
    "import numpy as np\n",
    "import matplotlib.pyplot as plt\n",
    "import random"
   ]
  },
  {
   "cell_type": "code",
   "execution_count": 2,
   "metadata": {},
   "outputs": [],
   "source": [
    "def random_perm(n):\n",
    "    v = [i for i in range(n)]\n",
    "    for i in range(len(v)-1):\n",
    "        j = random.randint(i, len(v)-1)\n",
    "        v[i], v[j] = v[j], v[i]\n",
    "    return v"
   ]
  },
  {
   "cell_type": "code",
   "execution_count": 3,
   "metadata": {},
   "outputs": [],
   "source": [
    "def insertion_sort(arr):\n",
    "    \"\"\"\n",
    "    Retorna una tupla con la cantidad de instrucciones, comparaciones y swaps (intercambios)\n",
    "    \"\"\"\n",
    "    ins = 0  # instrucciones\n",
    "    comp = 0  # comparaciones\n",
    "    swaps = 0  # swaps (intercambios)\n",
    "    for i in range(1, len(arr)):\n",
    "        key = arr[i]\n",
    "        j = i-1\n",
    "        ins += 3    # i = ; key =; j = ;\n",
    "        while j >= 0 and key < arr[j]:\n",
    "            comp += 1  # key < arr[j];\n",
    "            arr[j+1] = arr[j]   # Desplaza hacia la derecha el valor\n",
    "            swaps += 1\n",
    "            j -= 1\n",
    "            ins += 3    # arr[j+1] =; j =; j >=;\n",
    "        arr[j+1] = key; ins += 1\n",
    "    return ins, comp, swaps"
   ]
  },
  {
   "cell_type": "code",
   "execution_count": 4,
   "metadata": {},
   "outputs": [],
   "source": [
    "instructions = []   # Lista para manejar las instrucciones\n",
    "comparisons = []    # Lista para manejar las comparaciones\n",
    "swaps = []      # Lista para manejar los swaps\n",
    "max = 51    # Cantidad maxima de permutaciones\n",
    "runs = 2000   # Cantidad de veces que se ordenaran"
   ]
  },
  {
   "cell_type": "code",
   "execution_count": null,
   "metadata": {},
   "outputs": [],
   "source": [
    "for n in range(1, max):\n",
    "    i_aux = []\n",
    "    c_aux = []\n",
    "    s_aux = []\n",
    "    for _ in range(runs):\n",
    "        p = random_perm(n)\n",
    "        #print(p)\n",
    "        i, c, s = insertion_sort(p)\n",
    "        #print(\"i: {}, c: {}, s: {}\".format(i, c, s))\n",
    "        i_aux.append(i)\n",
    "        c_aux.append(c)\n",
    "        s_aux.append(s)\n",
    "\n",
    "    instructions.append(i_aux)\n",
    "    comparisons.append(c_aux)\n",
    "    swaps.append(s_aux)"
   ]
  },
  {
   "cell_type": "code",
   "execution_count": null,
   "metadata": {},
   "outputs": [],
   "source": [
    "len_i = len(instructions)\n",
    "arr_hist = instructions[len_i-1]\n",
    "plt.hist(arr_hist, bins='auto')\n",
    "title = \"Histograma con permutaciones aleatorias de N = \" + str(len_i)\n",
    "plt.title(title)\n",
    "plt.show()"
   ]
  },
  {
   "cell_type": "code",
   "execution_count": null,
   "metadata": {},
   "outputs": [],
   "source": [
    "def means(seq):\n",
    "    \"\"\"\n",
    "    Retorna una lista con las medias de cada lista dentro de la secuencia\n",
    "    \"\"\"\n",
    "    return [np.mean(s) for s in seq]"
   ]
  },
  {
   "cell_type": "code",
   "execution_count": null,
   "metadata": {},
   "outputs": [],
   "source": [
    "fig = plt.figure()\n",
    "ax = plt.subplot(111)\n",
    "x_axe = np.arange(1, max)\n",
    "w = 0.2     # width\n",
    "\n",
    "ins_means = means(instructions)\n",
    "ax.bar(x_axe, ins_means, w, color=\"r\")\n",
    "\n",
    "comp_means = means(comparisons)\n",
    "ax.bar(x_axe+w, comp_means, w, color=\"g\")\n",
    "\n",
    "swaps_means = means(swaps)\n",
    "ax.bar(x_axe+2*w, swaps_means, w, color=\"b\")\n",
    "\n",
    "ax.set_xticks(x_axe+w)\n",
    "ax.set_xticklabels(np.arange(1, max))\n",
    "ax.legend([\"instructions\", \"comparisons\", \"swaps\"])\n",
    "ax.set_xlabel(\"Permutacion de N\")\n",
    "\n",
    "print(ins_means)\n",
    "print(comp_means)\n",
    "print(swaps_means)\n",
    "\n",
    "plt.show()"
   ]
  }
 ],
 "metadata": {
  "kernelspec": {
   "display_name": "Python 3",
   "language": "python",
   "name": "python3"
  },
  "language_info": {
   "codemirror_mode": {
    "name": "ipython",
    "version": 3
   },
   "file_extension": ".py",
   "mimetype": "text/x-python",
   "name": "python",
   "nbconvert_exporter": "python",
   "pygments_lexer": "ipython3",
   "version": "3.6.4"
  }
 },
 "nbformat": 4,
 "nbformat_minor": 2
}
