{
 "cells": [
  {
   "cell_type": "code",
   "execution_count": 1,
   "metadata": {},
   "outputs": [],
   "source": [
    "import numpy as np\n",
    "import matplotlib.pyplot as plt\n",
    "import random"
   ]
  },
  {
   "cell_type": "code",
   "execution_count": 2,
   "metadata": {},
   "outputs": [],
   "source": [
    "def random_perm(n):\n",
    "    v = [i for i in range(n)]\n",
    "    for i in range(len(v)-1):\n",
    "        j = random.randint(i, len(v)-1)\n",
    "        v[i], v[j] = v[j], v[i]\n",
    "    return v"
   ]
  },
  {
   "cell_type": "code",
   "execution_count": 3,
   "metadata": {},
   "outputs": [],
   "source": [
    "def insertion_sort(arr):\n",
    "    \"\"\"\n",
    "    Retorna una tupla con la cantidad de instrucciones, comparaciones y swaps (intercambios)\n",
    "    \"\"\"\n",
    "    ins = 0  # instrucciones\n",
    "    comp = 0  # comparaciones\n",
    "    swaps = 0  # swaps (intercambios)\n",
    "    for i in range(1, len(arr)):\n",
    "        key = arr[i]\n",
    "        j = i-1\n",
    "        ins += 3    # i = ; key =; j = ;\n",
    "        while j >= 0 and key < arr[j]:\n",
    "            comp += 1  # key < arr[j];\n",
    "            arr[j+1] = arr[j]   # Desplaza hacia la derecha el valor\n",
    "            swaps += 1\n",
    "            j -= 1\n",
    "            ins += 3    # arr[j+1] =; j =; j >=;\n",
    "        arr[j+1] = key; ins += 1\n",
    "    return ins, comp, swaps"
   ]
  },
  {
   "cell_type": "code",
   "execution_count": 4,
   "metadata": {},
   "outputs": [],
   "source": [
    "instructions = []   # Lista para manejar las instrucciones\n",
    "comparisons = []    # Lista para manejar las comparaciones\n",
    "swaps = []      # Lista para manejar los swaps\n",
    "max = 51    # Cantidad maxima de permutaciones\n",
    "runs = 2000   # Cantidad de veces que se ordenaran"
   ]
  },
  {
   "cell_type": "code",
   "execution_count": 5,
   "metadata": {},
   "outputs": [],
   "source": [
    "for n in range(1, max):\n",
    "    i_aux = []\n",
    "    c_aux = []\n",
    "    s_aux = []\n",
    "    for _ in range(runs):\n",
    "        p = random_perm(n)\n",
    "        #print(p)\n",
    "        i, c, s = insertion_sort(p)\n",
    "        #print(\"i: {}, c: {}, s: {}\".format(i, c, s))\n",
    "        i_aux.append(i)\n",
    "        c_aux.append(c)\n",
    "        s_aux.append(s)\n",
    "\n",
    "    instructions.append(i_aux)\n",
    "    comparisons.append(c_aux)\n",
    "    swaps.append(s_aux)"
   ]
  },
  {
   "cell_type": "code",
   "execution_count": 6,
   "metadata": {},
   "outputs": [
    {
     "data": {
      "image/png": "[encoded data removed]",
      "text/plain": [
       "<matplotlib.figure.Figure at 0x7f8c08d230f0>"
      ]
     },
     "metadata": {},
     "output_type": "display_data"
    }
   ],
   "source": [
    "len_i = len(instructions)\n",
    "arr_hist = instructions[len_i-1]\n",
    "plt.hist(arr_hist, bins='auto')\n",
    "title = \"Histograma con permutaciones aleatorias de N = \" + str(len_i)\n",
    "plt.title(title)\n",
    "plt.show()"
   ]
  },
  {
   "cell_type": "code",
   "execution_count": 7,
   "metadata": {},
   "outputs": [],
   "source": [
    "def means(seq):\n",
    "    \"\"\"\n",
    "    Retorna una lista con las medias de cada lista dentro de la secuencia\n",
    "    \"\"\"\n",
    "    return [np.mean(s) for s in seq]"
   ]
  },
  {
   "cell_type": "code",
   "execution_count": 8,
   "metadata": {},
   "outputs": [
    {
     "name": "stdout",
     "output_type": "stream",
     "text": [
      "[0.0, 5.4790000000000001, 12.4595, 20.946000000000002, 30.966999999999999, 43.094000000000001, 55.252499999999998, 69.485500000000002, 86.072000000000003, 103.33499999999999, 122.3605, 142.47499999999999, 165.26249999999999, 188.6695, 213.887, 240.624, 267.36099999999999, 295.85899999999998, 328.947, 360.74200000000002, 394.69999999999999, 432.08850000000001, 466.4425, 507.81200000000001, 545.65350000000001, 588.80499999999995, 630.51199999999994, 672.32100000000003, 720.19600000000003, 770.39300000000003, 818.47950000000003, 871.57899999999995, 919.08950000000004, 976.44600000000003, 1035.2484999999999, 1084.799, 1144.107, 1206.8019999999999, 1255.5725, 1328.1495, 1390.3615, 1455.5150000000001, 1523.9190000000001, 1592.836, 1662.4565, 1733.3040000000001, 1808.0754999999999, 1883.0540000000001, 1958.6400000000001, 2034.2365]\n",
      "[0.0, 0.49299999999999999, 1.4864999999999999, 2.9820000000000002, 4.9889999999999999, 7.6980000000000004, 10.4175, 13.8285, 18.024000000000001, 22.445, 27.453499999999998, 32.825000000000003, 39.087499999999999, 45.5565, 52.628999999999998, 60.207999999999998, 67.787000000000006, 75.953000000000003, 85.649000000000001, 94.914000000000001, 104.90000000000001, 116.0295, 126.14749999999999, 138.60400000000001, 149.8845, 162.935, 175.50399999999999, 188.107, 202.732, 218.131, 232.82650000000001, 249.19300000000001, 263.69650000000001, 281.48200000000003, 299.74950000000001, 314.93299999999999, 333.36900000000003, 352.93400000000003, 367.85750000000002, 390.7165, 410.12049999999999, 430.505, 451.97300000000001, 473.61200000000002, 495.4855, 517.76800000000003, 541.35850000000005, 565.01800000000003, 588.88, 612.74549999999999]\n",
      "[0.0, 0.49299999999999999, 1.4864999999999999, 2.9820000000000002, 4.9889999999999999, 7.6980000000000004, 10.4175, 13.8285, 18.024000000000001, 22.445, 27.453499999999998, 32.825000000000003, 39.087499999999999, 45.5565, 52.628999999999998, 60.207999999999998, 67.787000000000006, 75.953000000000003, 85.649000000000001, 94.914000000000001, 104.90000000000001, 116.0295, 126.14749999999999, 138.60400000000001, 149.8845, 162.935, 175.50399999999999, 188.107, 202.732, 218.131, 232.82650000000001, 249.19300000000001, 263.69650000000001, 281.48200000000003, 299.74950000000001, 314.93299999999999, 333.36900000000003, 352.93400000000003, 367.85750000000002, 390.7165, 410.12049999999999, 430.505, 451.97300000000001, 473.61200000000002, 495.4855, 517.76800000000003, 541.35850000000005, 565.01800000000003, 588.88, 612.74549999999999]\n"
     ]
    },
    {
     "data": {
      "image/png": "[encoded data removed]",
      "text/plain": [
       "<matplotlib.figure.Figure at 0x7f8c06c14390>"
      ]
     },
     "metadata": {},
     "output_type": "display_data"
    }
   ],
   "source": [
    "fig = plt.figure()\n",
    "ax = plt.subplot(111)\n",
    "x_axe = np.arange(1, max)\n",
    "w = 0.2     # width\n",
    "\n",
    "ins_means = means(instructions)\n",
    "ax.bar(x_axe, ins_means, w, color=\"r\")\n",
    "\n",
    "comp_means = means(comparisons)\n",
    "ax.bar(x_axe+w, comp_means, w, color=\"g\")\n",
    "\n",
    "swaps_means = means(swaps)\n",
    "ax.bar(x_axe+2*w, swaps_means, w, color=\"b\")\n",
    "\n",
    "ax.set_xticks(x_axe+w)\n",
    "ax.set_xticklabels(np.arange(1, max))\n",
    "ax.legend([\"instructions\", \"comparisons\", \"swaps\"])\n",
    "ax.set_xlabel(\"Permutacion de N\")\n",
    "\n",
    "print(ins_means)\n",
    "print(comp_means)\n",
    "print(swaps_means)\n",
    "\n",
    "plt.show()"
   ]
  }
 ],
 "metadata": {
  "kernelspec": {
   "display_name": "Python 3",
   "language": "python",
   "name": "python3"
  },
  "language_info": {
   "codemirror_mode": {
    "name": "ipython",
    "version": 3
   },
   "file_extension": ".py",
   "mimetype": "text/x-python",
   "name": "python",
   "nbconvert_exporter": "python",
   "pygments_lexer": "ipython3",
   "version": "3.6.4"
  }
 },
 "nbformat": 4,
 "nbformat_minor": 2
}
