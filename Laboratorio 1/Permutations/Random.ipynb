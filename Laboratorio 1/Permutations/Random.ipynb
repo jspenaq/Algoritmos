{
 "cells": [
  {
   "cell_type": "code",
   "execution_count": 1,
   "metadata": {},
   "outputs": [],
   "source": [
    "import numpy as np\n",
    "import matplotlib.pyplot as plt\n",
    "import random"
   ]
  },
  {
   "cell_type": "code",
   "execution_count": 2,
   "metadata": {},
   "outputs": [],
   "source": [
    "def random_perm(n):\n",
    "    v = [i for i in range(n)]\n",
    "    for i in range(len(v)-1):\n",
    "        j = random.randint(i, len(v)-1)\n",
    "        v[i], v[j] = v[j], v[i]\n",
    "    return v"
   ]
  },
  {
   "cell_type": "code",
   "execution_count": 3,
   "metadata": {},
   "outputs": [],
   "source": [
    "def insertion_sort(arr):\n",
    "    \"\"\"\n",
    "    Retorna una tupla con la cantidad de instrucciones, comparaciones y swaps (intercambios)\n",
    "    \"\"\"\n",
    "    ins = 0  # instrucciones\n",
    "    comp = 0  # comparaciones\n",
    "    swaps = 0  # swaps (intercambios)\n",
    "    for i in range(1, len(arr)):\n",
    "        key = arr[i]\n",
    "        j = i-1\n",
    "        ins += 3    # i = ; key =; j = ;\n",
    "        while j >= 0 and key < arr[j]:\n",
    "            comp += 1  # key < arr[j];\n",
    "            arr[j+1] = arr[j]   # Desplaza hacia la derecha el valor\n",
    "            swaps += 1\n",
    "            j -= 1\n",
    "            ins += 3    # arr[j+1] =; j =; j >=;\n",
    "        arr[j+1] = key; ins += 1\n",
    "    return ins, comp, swaps"
   ]
  },
  {
   "cell_type": "code",
   "execution_count": 4,
   "metadata": {},
   "outputs": [],
   "source": [
    "instructions = []   # Lista para manejar las instrucciones\n",
    "comparisons = []    # Lista para manejar las comparaciones\n",
    "swaps = []      # Lista para manejar los swaps\n",
    "max = 33    # Cantidad maxima de permutaciones\n",
    "runs = 50   # Cantidad de veces que se ordenaran"
   ]
  },
  {
   "cell_type": "code",
   "execution_count": 5,
   "metadata": {},
   "outputs": [],
   "source": [
    "for n in range(1, max):\n",
    "    i_aux = []\n",
    "    c_aux = []\n",
    "    s_aux = []\n",
    "    for _ in range(runs):\n",
    "        p = random_perm(n)\n",
    "        #print(p)\n",
    "        i, c, s = insertion_sort(p)\n",
    "        #print(\"i: {}, c: {}, s: {}\".format(i, c, s))\n",
    "        i_aux.append(i)\n",
    "        c_aux.append(c)\n",
    "        s_aux.append(s)\n",
    "\n",
    "    instructions.append(i_aux)\n",
    "    comparisons.append(c_aux)\n",
    "    swaps.append(s_aux)"
   ]
  },
  {
   "cell_type": "code",
   "execution_count": 6,
   "metadata": {},
   "outputs": [],
   "source": [
    "def means(seq):\n",
    "    \"\"\"\n",
    "    Retorna una lista con las medias de cada lista dentro de la secuencia\n",
    "    \"\"\"\n",
    "    return [np.mean(s) for s in seq]"
   ]
  },
  {
   "cell_type": "code",
   "execution_count": 7,
   "metadata": {},
   "outputs": [
    {
     "name": "stdout",
     "output_type": "stream",
     "text": [
      "[0.0, 5.0800000000000001, 13.34, 21.359999999999999, 30.760000000000002, 42.859999999999999, 55.560000000000002, 67.900000000000006, 82.579999999999998, 105.84, 124.48, 140.41999999999999, 168.66, 187.66, 212.30000000000001, 247.38, 270.63999999999999, 299.83999999999997, 328.98000000000002, 370.83999999999997, 396.86000000000001, 431.10000000000002, 475.72000000000003, 501.25999999999999, 537.05999999999995, 587.67999999999995, 619.27999999999997, 694.20000000000005, 722.38, 773.29999999999995, 798.17999999999995, 887.38]\n",
      "[0.0, 0.35999999999999999, 1.78, 3.1200000000000001, 4.9199999999999999, 7.6200000000000001, 10.52, 13.300000000000001, 16.859999999999999, 23.280000000000001, 28.16, 32.140000000000001, 40.219999999999999, 45.219999999999999, 52.100000000000001, 62.460000000000001, 68.879999999999995, 77.280000000000001, 85.659999999999997, 98.280000000000001, 105.62, 115.7, 129.24000000000001, 136.41999999999999, 147.02000000000001, 162.56, 171.75999999999999, 195.40000000000001, 203.46000000000001, 219.09999999999999, 226.06, 254.46000000000001]\n",
      "[0.0, 0.35999999999999999, 1.78, 3.1200000000000001, 4.9199999999999999, 7.6200000000000001, 10.52, 13.300000000000001, 16.859999999999999, 23.280000000000001, 28.16, 32.140000000000001, 40.219999999999999, 45.219999999999999, 52.100000000000001, 62.460000000000001, 68.879999999999995, 77.280000000000001, 85.659999999999997, 98.280000000000001, 105.62, 115.7, 129.24000000000001, 136.41999999999999, 147.02000000000001, 162.56, 171.75999999999999, 195.40000000000001, 203.46000000000001, 219.09999999999999, 226.06, 254.46000000000001]\n"
     ]
    },
    {
     "data": {
      "image/png": "[encoded data removed]",
      "text/plain": [
       "<matplotlib.figure.Figure at 0x7fa03a63a2b0>"
      ]
     },
     "metadata": {},
     "output_type": "display_data"
    }
   ],
   "source": [
    "fig = plt.figure()\n",
    "ax = plt.subplot(111)\n",
    "x_axe = np.arange(1, max)\n",
    "w = 0.2     # width\n",
    "\n",
    "ins_means = means(instructions)\n",
    "ax.bar(x_axe, ins_means, w, color=\"r\")\n",
    "\n",
    "comp_means = means(comparisons)\n",
    "ax.bar(x_axe+w, comp_means, w, color=\"g\")\n",
    "\n",
    "swaps_means = means(swaps)\n",
    "ax.bar(x_axe+2*w, swaps_means, w, color=\"b\")\n",
    "\n",
    "ax.set_xticks(x_axe+w)\n",
    "ax.set_xticklabels(np.arange(1, max))\n",
    "ax.legend([\"instructions\", \"comparisons\", \"swaps\"])\n",
    "ax.set_xlabel(\"Permutacion de N\")\n",
    "\n",
    "print(ins_means)\n",
    "print(comp_means)\n",
    "print(swaps_means)\n",
    "\n",
    "plt.show()"
   ]
  }
 ],
 "metadata": {
  "kernelspec": {
   "display_name": "Python 3",
   "language": "python",
   "name": "python3"
  },
  "language_info": {
   "codemirror_mode": {
    "name": "ipython",
    "version": 3
   },
   "file_extension": ".py",
   "mimetype": "text/x-python",
   "name": "python",
   "nbconvert_exporter": "python",
   "pygments_lexer": "ipython3",
   "version": "3.6.4"
  }
 },
 "nbformat": 4,
 "nbformat_minor": 2
}
