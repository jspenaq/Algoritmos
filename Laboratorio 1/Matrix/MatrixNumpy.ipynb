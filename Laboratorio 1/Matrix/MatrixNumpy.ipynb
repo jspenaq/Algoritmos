{
 "cells": [
  {
   "cell_type": "code",
   "execution_count": 1,
   "metadata": {
    "collapsed": true
   },
   "outputs": [],
   "source": [
    "import numpy as np\n",
    "import pylab as pl\n",
    "import time\n",
    "%matplotlib inline"
   ]
  },
  {
   "cell_type": "code",
   "execution_count": 2,
   "metadata": {
    "collapsed": true
   },
   "outputs": [],
   "source": [
    "test = 10   # Cantidad de pruebas que se haran por tamaño\n",
    "max = 100   # Cantidad maxima de tamaños para matrices cuadradas que se multiplicaran\n",
    "times = []  # Lista para manejar los tiempos"
   ]
  },
  {
   "cell_type": "code",
   "execution_count": 3,
   "metadata": {},
   "outputs": [],
   "source": [
    "for n in range(2, max+1):    # n = size\n",
    "    m1 = np.full((n,n), 1)\n",
    "    m2 = np.full((n,n), 2)\n",
    "\n",
    "    sum = 0\n",
    "    for t in range(test):\n",
    "        t0 = time.clock()\n",
    "        mult = np.matmul(m1, m2)\n",
    "        tf = time.clock()\n",
    "        aux = (tf - t0) / (2 * (n ** 3))\n",
    "        sum += aux\n",
    "\n",
    "    times.append(sum / test)  # Avg\n",
    "    # print(\"Matrix {}: {}\".format(n, times[n - 2]))"
   ]
  },
  {
   "cell_type": "code",
   "execution_count": 4,
   "metadata": {},
   "outputs": [
    {
     "data": {
      "text/plain": [
       "[<matplotlib.lines.Line2D at 0x9fb44c55f8>]"
      ]
     },
     "execution_count": 4,
     "metadata": {},
     "output_type": "execute_result"
    },
    {
     "data": {
      "image/png": "[encoded data removed]",
      "text/plain": [
       "<matplotlib.figure.Figure at 0x9fb44c5588>"
      ]
     },
     "metadata": {},
     "output_type": "display_data"
    }
   ],
   "source": [
    "arange = np.arange(1, max)\n",
    "pl.ylabel(\"Tiempo\")\n",
    "pl.xlabel(\"Tamaño de la matriz\")\n",
    "pl.plot(arange, times)"
   ]
  },
  {
   "cell_type": "code",
   "execution_count": null,
   "metadata": {
    "collapsed": true
   },
   "outputs": [],
   "source": []
  }
 ],
 "metadata": {
  "kernelspec": {
   "display_name": "Python 3",
   "language": "python",
   "name": "python3"
  },
  "language_info": {
   "codemirror_mode": {
    "name": "ipython",
    "version": 3
   },
   "file_extension": ".py",
   "mimetype": "text/x-python",
   "name": "python",
   "nbconvert_exporter": "python",
   "pygments_lexer": "ipython3",
   "version": "3.5.4"
  }
 },
 "nbformat": 4,
 "nbformat_minor": 2
}
