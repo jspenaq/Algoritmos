{
 "cells": [
  {
   "cell_type": "code",
   "execution_count": 1,
   "metadata": {},
   "outputs": [],
   "source": [
    "import numpy as np\n",
    "import pylab as pl\n",
    "import time\n",
    "import matplotlib as plt"
   ]
  },
  {
   "cell_type": "code",
   "execution_count": 2,
   "metadata": {},
   "outputs": [],
   "source": [
    "def create_matrix(size, value):\n",
    "    # Normal:\n",
    "    \"\"\"m = []\n",
    "    for i in range(size):\n",
    "        m.append([])\n",
    "        for j in range(size):\n",
    "            m[i].append(value)\"\"\"\n",
    "    # Pythonic:\n",
    "    m = [[value for col in range(size)] for row in range(size)]\n",
    "    return m"
   ]
  },
  {
   "cell_type": "code",
   "execution_count": 3,
   "metadata": {},
   "outputs": [],
   "source": [
    "def multiply_matrices(A, B):\n",
    "    result = [[0 for row in range(len(B[0]))] for col in range(len(A))]\n",
    "\n",
    "    for i in range(len(A)):    # Filas de A\n",
    "        for j in range(len(B[0])): # Columnas de B\n",
    "            for k in range(len(A[0])): # Columnas de A\n",
    "                result[i][j] += A[i][k] * B[k][j]\n",
    "    return result"
   ]
  },
  {
   "cell_type": "code",
   "execution_count": 4,
   "metadata": {},
   "outputs": [],
   "source": [
    "test = 10   # Cantidad de pruebas que se haran por tamaño\n",
    "max = 100   # Cantidad maxima de tamaños para matrices cuadradas que se multiplicaran\n",
    "times = []  # Lista para manejar los tiempos"
   ]
  },
  {
   "cell_type": "code",
   "execution_count": 5,
   "metadata": {},
   "outputs": [],
   "source": [
    "for n in range(2, max+1):    # n = size\n",
    "    m1 = create_matrix(n, 1)\n",
    "    m2 = create_matrix(n, 2)\n",
    "\n",
    "    sum = 0\n",
    "    for t in range(test):\n",
    "        t0 = time.clock()\n",
    "        mult = multiply_matrices(m1, m2)\n",
    "        tf = time.clock()\n",
    "        aux = (tf-t0) / (2*(n**3))\n",
    "        sum += aux\n",
    "\n",
    "    times.append(sum/test)  # Avg\n",
    "    # print(\"Matrix {}: {}\".format(n, times[n-2]))"
   ]
  },
  {
   "cell_type": "code",
   "execution_count": 6,
   "metadata": {},
   "outputs": [
    {
     "data": {
      "text/plain": [
       "[<matplotlib.lines.Line2D at 0x7f792f869198>]"
      ]
     },
     "execution_count": 6,
     "metadata": {},
     "output_type": "execute_result"
    },
    {
     "data": {
      "image/png": "[encoded data removed]",
      "text/plain": [
       "<matplotlib.figure.Figure at 0x7f7999ed0b38>"
      ]
     },
     "metadata": {},
     "output_type": "display_data"
    }
   ],
   "source": [
    "arange = np.arange(1, max)\n",
    "pl.ylabel(\"Tiempo\")\n",
    "pl.xlabel(\"Tamaño de la matriz\")\n",
    "pl.plot(arange, times)"
   ]
  }
 ],
 "metadata": {
  "kernelspec": {
   "display_name": "Python 3",
   "language": "python",
   "name": "python3"
  },
  "language_info": {
   "codemirror_mode": {
    "name": "ipython",
    "version": 3
   },
   "file_extension": ".py",
   "mimetype": "text/x-python",
   "name": "python",
   "nbconvert_exporter": "python",
   "pygments_lexer": "ipython3",
   "version": "3.6.4"
  }
 },
 "nbformat": 4,
 "nbformat_minor": 2
}
