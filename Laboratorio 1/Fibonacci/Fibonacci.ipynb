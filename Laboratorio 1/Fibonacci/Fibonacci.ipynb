{
 "cells": [
  {
   "cell_type": "code",
   "execution_count": 1,
   "metadata": {},
   "outputs": [],
   "source": [
    "import numpy as np\n",
    "import pylab as pl\n",
    "import time\n",
    "import matplotlib as plt"
   ]
  },
  {
   "cell_type": "code",
   "execution_count": 2,
   "metadata": {},
   "outputs": [],
   "source": [
    "def fiboIte(n):\n",
    "    if n == 0:\n",
    "        return 0\n",
    "    a, b = 0, 1\n",
    "    for i in range(1, n):\n",
    "        a, b = b, a+b\n",
    "    return b"
   ]
  },
  {
   "cell_type": "code",
   "execution_count": 3,
   "metadata": {},
   "outputs": [],
   "source": [
    "timesI = []      # Lista para guardar los tiempos\n",
    "max = 10000       # Numero maximo de fibonacci que se calculará"
   ]
  },
  {
   "cell_type": "code",
   "execution_count": 4,
   "metadata": {},
   "outputs": [],
   "source": [
    "t0 = time.clock()\n",
    "for i in range(1, max+1):    \n",
    "    k = fiboIte(i)\n",
    "    tf = time.clock()\n",
    "    # print(\"fiboIte({}): {}, time: {} seconds process time\".format(i, k, tf - t0))\n",
    "    timesI.append(tf - t0)"
   ]
  },
  {
   "cell_type": "code",
   "execution_count": 5,
   "metadata": {},
   "outputs": [
    {
     "data": {
      "image/png": "[encoded data removed]",
      "text/plain": [
       "<matplotlib.figure.Figure at 0x7fa8591860b8>"
      ]
     },
     "metadata": {},
     "output_type": "display_data"
    }
   ],
   "source": [
    "arange = np.arange(1, max+1)\n",
    "pl.ylabel(\"Tiempo\")\n",
    "pl.xlabel('Tamaño')\n",
    "pl.plot(arange, timesI)\n",
    "pl.show()"
   ]
  }
 ],
 "metadata": {
  "kernelspec": {
   "display_name": "Python 3",
   "language": "python",
   "name": "python3"
  },
  "language_info": {
   "codemirror_mode": {
    "name": "ipython",
    "version": 3
   },
   "file_extension": ".py",
   "mimetype": "text/x-python",
   "name": "python",
   "nbconvert_exporter": "python",
   "pygments_lexer": "ipython3",
   "version": "3.6.4"
  }
 },
 "nbformat": 4,
 "nbformat_minor": 2
}
